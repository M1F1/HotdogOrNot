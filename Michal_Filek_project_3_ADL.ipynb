{
  "nbformat": 4,
  "nbformat_minor": 0,
  "metadata": {
    "colab": {
      "name": "Michal_Filek_project_3_ADL.ipynb",
      "version": "0.3.2",
      "provenance": [],
      "collapsed_sections": []
    },
    "kernelspec": {
      "name": "python3",
      "display_name": "Python 3"
    },
    "accelerator": "GPU"
  },
  "cells": [
    {
      "cell_type": "code",
      "metadata": {
        "id": "WBmTZYFMil6U",
        "colab_type": "code",
        "outputId": "afeb4dc0-17d3-4bb2-ba4f-02eaad9daa7a",
        "colab": {
          "base_uri": "https://localhost:8080/",
          "height": 486
        }
      },
      "source": [
        "from tensorflow.python.client import device_lib\n",
        "device_lib.list_local_devices()"
      ],
      "execution_count": 73,
      "outputs": [
        {
          "output_type": "execute_result",
          "data": {
            "text/plain": [
              "[name: \"/device:CPU:0\"\n",
              " device_type: \"CPU\"\n",
              " memory_limit: 268435456\n",
              " locality {\n",
              " }\n",
              " incarnation: 11936892049774820770, name: \"/device:XLA_CPU:0\"\n",
              " device_type: \"XLA_CPU\"\n",
              " memory_limit: 17179869184\n",
              " locality {\n",
              " }\n",
              " incarnation: 8988704042636501253\n",
              " physical_device_desc: \"device: XLA_CPU device\", name: \"/device:XLA_GPU:0\"\n",
              " device_type: \"XLA_GPU\"\n",
              " memory_limit: 17179869184\n",
              " locality {\n",
              " }\n",
              " incarnation: 9520206529341598208\n",
              " physical_device_desc: \"device: XLA_GPU device\", name: \"/device:GPU:0\"\n",
              " device_type: \"GPU\"\n",
              " memory_limit: 14892338381\n",
              " locality {\n",
              "   bus_id: 1\n",
              "   links {\n",
              "   }\n",
              " }\n",
              " incarnation: 11030438224622593568\n",
              " physical_device_desc: \"device: 0, name: Tesla T4, pci bus id: 0000:00:04.0, compute capability: 7.5\"]"
            ]
          },
          "metadata": {
            "tags": []
          },
          "execution_count": 73
        }
      ]
    },
    {
      "cell_type": "code",
      "metadata": {
        "id": "ILl5BepPqLRJ",
        "colab_type": "code",
        "colab": {}
      },
      "source": [
        "import glob\n",
        "import os\n",
        "from tensorflow.python.keras.preprocessing import image\n",
        "from tensorflow.python.keras import layers\n",
        "from tensorflow.python.keras.models import Model\n",
        "from tensorflow.python.keras.applications.imagenet_utils import preprocess_input, decode_predictions\n",
        "from tensorflow.python.keras.callbacks import Callback\n",
        "from tensorflow.python.keras import optimizers\n",
        "from tensorflow.python.keras.models import Sequential\n",
        "from tensorflow.python.keras.layers import Dense, Dropout, Activation, Flatten\n",
        "from tensorflow.python.keras.layers import Conv2D, MaxPooling2D\n",
        "from tensorflow.python.keras.utils import to_categorical\n",
        "from sklearn.metrics import confusion_matrix, f1_score, precision_score, recall_score\n",
        "from sklearn.model_selection import train_test_split\n",
        "\n",
        "import numpy as np\n",
        "import pandas as pd\n",
        "import tarfile\n",
        "from matplotlib import pyplot\n",
        "import numpy as np \n",
        "from io import BytesIO\n",
        "import PIL\n",
        "from IPython.display import display, Image\n"
      ],
      "execution_count": 0,
      "outputs": []
    },
    {
      "cell_type": "code",
      "metadata": {
        "id": "u1jxFS7yUrns",
        "colab_type": "code",
        "colab": {}
      },
      "source": [
        "fname = 'train.tar.gz'\n",
        "if (fname.endswith(\"tar.gz\")):\n",
        "    tar = tarfile.open(fname, \"r:gz\")\n",
        "    tar.extractall()\n",
        "    tar.close()"
      ],
      "execution_count": 0,
      "outputs": []
    },
    {
      "cell_type": "code",
      "metadata": {
        "id": "C8OWY_1tVlsF",
        "colab_type": "code",
        "colab": {
          "base_uri": "https://localhost:8080/",
          "height": 52
        },
        "outputId": "ffc601c8-6c1c-4d9f-c90c-36c35afc704e"
      },
      "source": [
        "\n",
        "\n",
        "processed_imgs = []\n",
        "hot_dogs_paths = glob.glob(\"./train/hot_dog/*.jpg\")\n",
        "not_hot_dogs_paths = glob.glob(\"./train/not_hot_dog/*.jpg\")\n",
        "y = []\n",
        "def process_img(img_path):\n",
        "  img = image.load_img(img_path, target_size=(224, 224))\n",
        "  x = image.img_to_array(img)\n",
        "  return x\n",
        "  \n",
        "for img_path in hot_dogs_paths:\n",
        "  processed_imgs.append(process_img(img_path))\n",
        "  y.append(1)\n",
        "for img_path in not_hot_dogs_paths:\n",
        "  processed_imgs.append(process_img(img_path))\n",
        "  y.append(0)\n",
        "  \n",
        "processed_imgs = np.stack(processed_imgs)\n",
        "std = processed_imgs.std()\n",
        "print('std:', std)\n",
        "mean = processed_imgs.mean()\n",
        "print('mean:', mean)\n",
        "\n",
        "processed_imgs = (processed_imgs - mean) / std\n",
        "y = np.array(y)\n",
        "\n",
        " "
      ],
      "execution_count": 76,
      "outputs": [
        {
          "output_type": "stream",
          "text": [
            "std: 71.027534\n",
            "mean: 110.0263\n"
          ],
          "name": "stdout"
        }
      ]
    },
    {
      "cell_type": "code",
      "metadata": {
        "id": "U3r6vPzMZ5QA",
        "colab_type": "code",
        "outputId": "02699219-1410-4833-fafe-1f322f5d5e89",
        "colab": {
          "base_uri": "https://localhost:8080/",
          "height": 868
        }
      },
      "source": [
        "processed_imgs[3]"
      ],
      "execution_count": 77,
      "outputs": [
        {
          "output_type": "execute_result",
          "data": {
            "text/plain": [
              "array([[[-0.3382674 ,  0.05594593,  0.5768707 ],\n",
              "        [-0.3382674 ,  0.01370879,  0.5768707 ],\n",
              "        [-0.26787215,  0.05594593,  0.6331869 ],\n",
              "        ...,\n",
              "        [-0.2819512 ,  0.2530526 ,  0.77397734],\n",
              "        [-0.2819512 ,  0.18265735,  0.6472659 ],\n",
              "        [-0.39458358, -0.0144493 ,  0.39384305]],\n",
              "\n",
              "       [[-0.3101093 ,  0.05594593,  0.5768707 ],\n",
              "        [-0.2819512 ,  0.04186688,  0.6191078 ],\n",
              "        [-0.2819512 ,  0.02778784,  0.60502875],\n",
              "        ...,\n",
              "        [-0.225635  ,  0.2812107 ,  0.7880564 ],\n",
              "        [-0.15523978,  0.2812107 ,  0.71766114],\n",
              "        [-1.0844569 , -0.7184017 , -0.3382674 ]],\n",
              "\n",
              "       [[-0.26787215,  0.07002497,  0.60502875],\n",
              "        [-0.2819512 ,  0.02778784,  0.60502875],\n",
              "        [-0.2537931 ,  0.01370879,  0.60502875],\n",
              "        ...,\n",
              "        [-0.2537931 ,  0.2248945 ,  0.71766114],\n",
              "        [-0.0426074 ,  0.33752686,  0.7458192 ],\n",
              "        [-1.5349864 , -1.2252474 , -0.8873502 ]],\n",
              "\n",
              "       ...,\n",
              "\n",
              "       [[-1.408275  , -1.2674845 , -1.0985359 ],\n",
              "        [-1.5349864 , -1.422354  , -1.2674845 ],\n",
              "        [-1.5490655 , -1.4786702 , -1.3378798 ],\n",
              "        ...,\n",
              "        [-1.5349864 , -1.4645911 , -1.1548522 ],\n",
              "        [-1.4786702 , -1.408275  , -1.0985359 ],\n",
              "        [-1.4786702 , -1.408275  , -1.0985359 ]],\n",
              "\n",
              "       [[-1.5209073 , -1.4786702 , -1.3801168 ],\n",
              "        [-1.5490655 , -1.5209073 , -1.422354  ],\n",
              "        [-1.5349864 , -1.5209073 , -1.450512  ],\n",
              "        ...,\n",
              "        [-1.5490655 , -1.5490655 , -1.2956426 ],\n",
              "        [-1.5349864 , -1.5209073 , -1.2674845 ],\n",
              "        [-1.5349864 , -1.5209073 , -1.2674845 ]],\n",
              "\n",
              "       [[-1.5490655 , -1.5490655 , -1.4927492 ],\n",
              "        [-1.5209073 , -1.5490655 , -1.4786702 ],\n",
              "        [-1.5068283 , -1.5349864 , -1.4927492 ],\n",
              "        ...,\n",
              "        [-1.5349864 , -1.5490655 , -1.3801168 ],\n",
              "        [-1.5209073 , -1.5490655 , -1.3660378 ],\n",
              "        [-1.5209073 , -1.5490655 , -1.3660378 ]]], dtype=float32)"
            ]
          },
          "metadata": {
            "tags": []
          },
          "execution_count": 77
        }
      ]
    },
    {
      "cell_type": "code",
      "metadata": {
        "id": "4HdpUewIZka0",
        "colab_type": "code",
        "outputId": "2fb5082c-f098-49c4-f1d6-f99dad8296e0",
        "colab": {
          "base_uri": "https://localhost:8080/",
          "height": 913
        }
      },
      "source": [
        "def display_img_array(ima):\n",
        "    im = PIL.Image.fromarray(np.uint8(ima))\n",
        "    bio = BytesIO()\n",
        "    im.save(bio, format='png')\n",
        "    display(Image(bio.getvalue(), format='png'))\n",
        "\n",
        "for array in processed_imgs[:4]:\n",
        "  display_img_array(array)\n"
      ],
      "execution_count": 78,
      "outputs": [
        {
          "output_type": "display_data",
          "data": {
            "image/png": "[encoded data removed]",
            "text/plain": [
              "<IPython.core.display.Image object>"
            ]
          },
          "metadata": {
            "tags": []
          }
        },
        {
          "output_type": "display_data",
          "data": {
            "image/png": "[encoded data removed]",
            "text/plain": [
              "<IPython.core.display.Image object>"
            ]
          },
          "metadata": {
            "tags": []
          }
        },
        {
          "output_type": "display_data",
          "data": {
            "image/png": "[encoded data removed]",
            "text/plain": [
              "<IPython.core.display.Image object>"
            ]
          },
          "metadata": {
            "tags": []
          }
        },
        {
          "output_type": "display_data",
          "data": {
            "image/png": "[encoded data removed]",
            "text/plain": [
              "<IPython.core.display.Image object>"
            ]
          },
          "metadata": {
            "tags": []
          }
        }
      ]
    },
    {
      "cell_type": "code",
      "metadata": {
        "id": "BAQlpLNhYx0-",
        "colab_type": "code",
        "outputId": "5dc74b03-16eb-47ab-d346-0646a0d8d2e2",
        "colab": {
          "base_uri": "https://localhost:8080/",
          "height": 34
        }
      },
      "source": [
        "y.shape\n",
        "processed_imgs.shape\n"
      ],
      "execution_count": 79,
      "outputs": [
        {
          "output_type": "execute_result",
          "data": {
            "text/plain": [
              "(998, 224, 224, 3)"
            ]
          },
          "metadata": {
            "tags": []
          },
          "execution_count": 79
        }
      ]
    },
    {
      "cell_type": "code",
      "metadata": {
        "id": "3pXc9cidodl2",
        "colab_type": "code",
        "colab": {}
      },
      "source": [
        "batch_size = 16\n",
        "num_classes = 2\n",
        "SEED = 67\n",
        "epochs = 45\n",
        "if not os.path.exists(os.path.join(os.getcwd(), 'models')):\n",
        "  os.makedirs(os.path.join(os.getcwd(), 'models'))\n",
        "save_dir = os.path.join(os.getcwd(), 'models')\n",
        "model_name = 'keras_cnn_model.h5'"
      ],
      "execution_count": 0,
      "outputs": []
    },
    {
      "cell_type": "code",
      "metadata": {
        "id": "ohCkUWMDoA3E",
        "colab_type": "code",
        "colab": {}
      },
      "source": [
        "model = Sequential()\n",
        "model.add(Conv2D(32, (3, 3), padding='same',\n",
        "                 input_shape=processed_imgs.shape[1:]))\n",
        "model.add(Activation('relu'))\n",
        "model.add(Conv2D(32, (3, 3)))\n",
        "model.add(Activation('relu'))\n",
        "model.add(MaxPooling2D(pool_size=(2, 2)))\n",
        "model.add(Dropout(0.5))\n",
        "\n",
        "model.add(Conv2D(64, (3, 3), padding='same'))\n",
        "model.add(Activation('relu'))\n",
        "model.add(Conv2D(64, (3, 3)))\n",
        "model.add(Activation('relu'))\n",
        "model.add(MaxPooling2D(pool_size=(2, 2)))\n",
        "model.add(Dropout(0.5))\n",
        "\n",
        "model.add(Flatten())\n",
        "model.add(Dense(224))\n",
        "model.add(Activation('relu'))\n",
        "model.add(Dropout(0.5))\n",
        "model.add(Dense(num_classes))\n",
        "model.add(Activation('softmax'))"
      ],
      "execution_count": 0,
      "outputs": []
    },
    {
      "cell_type": "code",
      "metadata": {
        "id": "ePBuG8bxd98h",
        "colab_type": "code",
        "colab": {}
      },
      "source": [
        "class Metrics(Callback):\n",
        "    def set_val_data(self, x_val, y_val):\n",
        "        self.x_val = x_val\n",
        "        self.y_val = y_val\n",
        "        \n",
        "    def on_train_begin(self, logs={}):\n",
        "        self.val_f1s = []\n",
        "        self.val_recalls = []\n",
        "        self.val_precisions = []\n",
        "   \n",
        "    def on_epoch_end(self, epoch, logs={}):\n",
        "        X_val, y_val = self.x_val, self.y_val\n",
        "        y_pred = self.model.predict(X_val)\n",
        "\n",
        "        y_pred_cat = y_pred.argmax(axis=1)\n",
        "        _val_f1 = f1_score(y_val, y_pred_cat, average='macro')\n",
        "        _val_recall = recall_score(y_val, y_pred_cat, average='macro')\n",
        "        _val_precision = precision_score(y_val, y_pred_cat, average='macro')\n",
        "\n",
        "        self.val_f1s.append(_val_f1)\n",
        "        self.val_recalls.append(_val_recall)\n",
        "        self.val_precisions.append(_val_precision)\n",
        "\n",
        "        print((f\"val_f1: {_val_f1:.4f}\"\n",
        "               f\" — val_precision: {_val_precision:.4f}\"\n",
        "               f\" — val_recall: {_val_recall:.4f}\"))\n",
        "\n",
        "        return\n"
      ],
      "execution_count": 0,
      "outputs": []
    },
    {
      "cell_type": "code",
      "metadata": {
        "id": "MPGbZ_WfkZwT",
        "colab_type": "code",
        "outputId": "b51ed3c6-5d71-441a-f84e-183d956c3afa",
        "colab": {
          "base_uri": "https://localhost:8080/",
          "height": 1000
        }
      },
      "source": [
        "\n",
        "def lr_schedule(epoch):\n",
        "    lr = 1e-3\n",
        "    if epoch >= 43:\n",
        "        lr = 1e-5\n",
        "    elif epoch >= 37:\n",
        "        lr = 1e-4\n",
        "    print('Learning rate: ', lr)\n",
        "    return lr\n",
        "\n",
        "model.compile(\n",
        "    loss='sparse_categorical_crossentropy',\n",
        "    optimizer='sgd',\n",
        "    metrics=['accuracy']\n",
        ")\n",
        "np.random.seed(SEED)\n",
        "X_train, X_val, y_train, y_val = train_test_split( \n",
        "    processed_imgs, y, test_size=0.1, random_state=SEED)\n",
        "f1_metrics = Metrics()\n",
        "f1_metrics.set_val_data(X_val, y_val)\n",
        "\n",
        "\n",
        "hist = model.fit(\n",
        "    X_train, \n",
        "    y_train,\n",
        "    batch_size=batch_size,\n",
        "    epochs=epochs,\n",
        "    callbacks=[f1_metrics]\n",
        ")\n",
        "\n"
      ],
      "execution_count": 83,
      "outputs": [
        {
          "output_type": "stream",
          "text": [
            "Epoch 1/45\n",
            "896/898 [============================>.] - ETA: 0s - loss: 0.7926 - acc: 0.5056val_f1: 0.3506 — val_precision: 0.2700 — val_recall: 0.5000\n",
            "898/898 [==============================] - 5s 6ms/sample - loss: 0.7924 - acc: 0.5056\n",
            "Epoch 2/45\n",
            " 32/898 [>.............................] - ETA: 3s - loss: 0.7103 - acc: 0.4062"
          ],
          "name": "stdout"
        },
        {
          "output_type": "stream",
          "text": [
            "/usr/local/lib/python3.6/dist-packages/sklearn/metrics/classification.py:1437: UndefinedMetricWarning: F-score is ill-defined and being set to 0.0 in labels with no predicted samples.\n",
            "  'precision', 'predicted', average, warn_for)\n",
            "/usr/local/lib/python3.6/dist-packages/sklearn/metrics/classification.py:1437: UndefinedMetricWarning: Precision is ill-defined and being set to 0.0 in labels with no predicted samples.\n",
            "  'precision', 'predicted', average, warn_for)\n"
          ],
          "name": "stderr"
        },
        {
          "output_type": "stream",
          "text": [
            "896/898 [============================>.] - ETA: 0s - loss: 0.6893 - acc: 0.5435val_f1: 0.3151 — val_precision: 0.2300 — val_recall: 0.5000\n",
            "898/898 [==============================] - 4s 5ms/sample - loss: 0.6891 - acc: 0.5445\n",
            "Epoch 3/45\n",
            "896/898 [============================>.] - ETA: 0s - loss: 0.6832 - acc: 0.5681val_f1: 0.3506 — val_precision: 0.2700 — val_recall: 0.5000\n",
            "898/898 [==============================] - 4s 5ms/sample - loss: 0.6830 - acc: 0.5690\n",
            "Epoch 4/45\n",
            "896/898 [============================>.] - ETA: 0s - loss: 0.6637 - acc: 0.6071val_f1: 0.4544 — val_precision: 0.5778 — val_recall: 0.5282\n",
            "898/898 [==============================] - 4s 5ms/sample - loss: 0.6634 - acc: 0.6080\n",
            "Epoch 5/45\n",
            "896/898 [============================>.] - ETA: 0s - loss: 0.6517 - acc: 0.6138val_f1: 0.5512 — val_precision: 0.5855 — val_recall: 0.5749\n",
            "898/898 [==============================] - 4s 5ms/sample - loss: 0.6521 - acc: 0.6125\n",
            "Epoch 6/45\n",
            "896/898 [============================>.] - ETA: 0s - loss: 0.6341 - acc: 0.6641val_f1: 0.3151 — val_precision: 0.2300 — val_recall: 0.5000\n",
            "898/898 [==============================] - 4s 5ms/sample - loss: 0.6352 - acc: 0.6637\n",
            "Epoch 7/45\n",
            "896/898 [============================>.] - ETA: 0s - loss: 0.6452 - acc: 0.6540val_f1: 0.3498 — val_precision: 0.5653 — val_recall: 0.5076\n",
            "898/898 [==============================] - 4s 5ms/sample - loss: 0.6452 - acc: 0.6537\n",
            "Epoch 8/45\n",
            "896/898 [============================>.] - ETA: 0s - loss: 0.6154 - acc: 0.6775val_f1: 0.4945 — val_precision: 0.5583 — val_recall: 0.5346\n",
            "898/898 [==============================] - 4s 5ms/sample - loss: 0.6148 - acc: 0.6782\n",
            "Epoch 9/45\n",
            "896/898 [============================>.] - ETA: 0s - loss: 0.6046 - acc: 0.6808val_f1: 0.4868 — val_precision: 0.5999 — val_recall: 0.5568\n",
            "898/898 [==============================] - 4s 5ms/sample - loss: 0.6056 - acc: 0.6804\n",
            "Epoch 10/45\n",
            "896/898 [============================>.] - ETA: 0s - loss: 0.5867 - acc: 0.7121val_f1: 0.6215 — val_precision: 0.6274 — val_recall: 0.6220\n",
            "898/898 [==============================] - 4s 5ms/sample - loss: 0.5863 - acc: 0.7127\n",
            "Epoch 11/45\n",
            "896/898 [============================>.] - ETA: 0s - loss: 0.5790 - acc: 0.7098val_f1: 0.4165 — val_precision: 0.5217 — val_recall: 0.5064\n",
            "898/898 [==============================] - 4s 4ms/sample - loss: 0.5793 - acc: 0.7094\n",
            "Epoch 12/45\n",
            "896/898 [============================>.] - ETA: 0s - loss: 0.5847 - acc: 0.7109val_f1: 0.5880 — val_precision: 0.5879 — val_recall: 0.5882\n",
            "898/898 [==============================] - 4s 4ms/sample - loss: 0.5848 - acc: 0.7105\n",
            "Epoch 13/45\n",
            "896/898 [============================>.] - ETA: 0s - loss: 0.5314 - acc: 0.7266val_f1: 0.4644 — val_precision: 0.6563 — val_recall: 0.5616\n",
            "898/898 [==============================] - 4s 4ms/sample - loss: 0.5308 - acc: 0.7272\n",
            "Epoch 14/45\n",
            "896/898 [============================>.] - ETA: 0s - loss: 0.5542 - acc: 0.7355val_f1: 0.4945 — val_precision: 0.6250 — val_recall: 0.5676\n",
            "898/898 [==============================] - 4s 4ms/sample - loss: 0.5537 - acc: 0.7361\n",
            "Epoch 15/45\n",
            "896/898 [============================>.] - ETA: 0s - loss: 0.5268 - acc: 0.7444val_f1: 0.5543 — val_precision: 0.6492 — val_recall: 0.6031\n",
            "898/898 [==============================] - 4s 4ms/sample - loss: 0.5265 - acc: 0.7450\n",
            "Epoch 16/45\n",
            "896/898 [============================>.] - ETA: 0s - loss: 0.4801 - acc: 0.7623val_f1: 0.6394 — val_precision: 0.6400 — val_recall: 0.6409\n",
            "898/898 [==============================] - 4s 4ms/sample - loss: 0.4806 - acc: 0.7617\n",
            "Epoch 17/45\n",
            "896/898 [============================>.] - ETA: 0s - loss: 0.4685 - acc: 0.7846val_f1: 0.5830 — val_precision: 0.6171 — val_recall: 0.6043\n",
            "898/898 [==============================] - 4s 4ms/sample - loss: 0.4682 - acc: 0.7851\n",
            "Epoch 18/45\n",
            "896/898 [============================>.] - ETA: 0s - loss: 0.4606 - acc: 0.7902val_f1: 0.6236 — val_precision: 0.6624 — val_recall: 0.6445\n",
            "898/898 [==============================] - 4s 4ms/sample - loss: 0.4601 - acc: 0.7906\n",
            "Epoch 19/45\n",
            "896/898 [============================>.] - ETA: 0s - loss: 0.4071 - acc: 0.8304val_f1: 0.5524 — val_precision: 0.5933 — val_recall: 0.5705\n",
            "898/898 [==============================] - 4s 4ms/sample - loss: 0.4063 - acc: 0.8307\n",
            "Epoch 20/45\n",
            "896/898 [============================>.] - ETA: 0s - loss: 0.3822 - acc: 0.8147val_f1: 0.6267 — val_precision: 0.6617 — val_recall: 0.6341\n",
            "898/898 [==============================] - 4s 4ms/sample - loss: 0.3818 - acc: 0.8151\n",
            "Epoch 21/45\n",
            "896/898 [============================>.] - ETA: 0s - loss: 0.3839 - acc: 0.8237val_f1: 0.6000 — val_precision: 0.6039 — val_recall: 0.6039\n",
            "898/898 [==============================] - 4s 4ms/sample - loss: 0.3836 - acc: 0.8241\n",
            "Epoch 22/45\n",
            "896/898 [============================>.] - ETA: 0s - loss: 0.3612 - acc: 0.8482val_f1: 0.5512 — val_precision: 0.5855 — val_recall: 0.5749\n",
            "898/898 [==============================] - 4s 4ms/sample - loss: 0.3606 - acc: 0.8486\n",
            "Epoch 23/45\n",
            "896/898 [============================>.] - ETA: 0s - loss: 0.3407 - acc: 0.8683val_f1: 0.6200 — val_precision: 0.6240 — val_recall: 0.6240\n",
            "898/898 [==============================] - 4s 4ms/sample - loss: 0.3400 - acc: 0.8686\n",
            "Epoch 24/45\n",
            "896/898 [============================>.] - ETA: 0s - loss: 0.2851 - acc: 0.8772val_f1: 0.5998 — val_precision: 0.6018 — val_recall: 0.6023\n",
            "898/898 [==============================] - 4s 4ms/sample - loss: 0.2854 - acc: 0.8764\n",
            "Epoch 25/45\n",
            "896/898 [============================>.] - ETA: 0s - loss: 0.2846 - acc: 0.8828val_f1: 0.3918 — val_precision: 0.6065 — val_recall: 0.5125\n",
            "898/898 [==============================] - 4s 4ms/sample - loss: 0.2873 - acc: 0.8820\n",
            "Epoch 26/45\n",
            "896/898 [============================>.] - ETA: 0s - loss: 0.7313 - acc: 0.7299val_f1: 0.6100 — val_precision: 0.6128 — val_recall: 0.6131\n",
            "898/898 [==============================] - 4s 4ms/sample - loss: 0.7299 - acc: 0.7305\n",
            "Epoch 27/45\n",
            "896/898 [============================>.] - ETA: 0s - loss: 0.3947 - acc: 0.8270val_f1: 0.6217 — val_precision: 0.6443 — val_recall: 0.6264\n",
            "898/898 [==============================] - 4s 4ms/sample - loss: 0.3941 - acc: 0.8274\n",
            "Epoch 28/45\n",
            "896/898 [============================>.] - ETA: 0s - loss: 0.3323 - acc: 0.8694val_f1: 0.6009 — val_precision: 0.6416 — val_recall: 0.6123\n",
            "898/898 [==============================] - 4s 4ms/sample - loss: 0.3331 - acc: 0.8686\n",
            "Epoch 29/45\n",
            "896/898 [============================>.] - ETA: 0s - loss: 0.2942 - acc: 0.8862val_f1: 0.6788 — val_precision: 0.6787 — val_recall: 0.6795\n",
            "898/898 [==============================] - 4s 4ms/sample - loss: 0.2936 - acc: 0.8864\n",
            "Epoch 30/45\n",
            "896/898 [============================>.] - ETA: 0s - loss: 0.2346 - acc: 0.8996val_f1: 0.6300 — val_precision: 0.6354 — val_recall: 0.6349\n",
            "898/898 [==============================] - 4s 4ms/sample - loss: 0.2346 - acc: 0.8998\n",
            "Epoch 31/45\n",
            "896/898 [============================>.] - ETA: 0s - loss: 0.1895 - acc: 0.9275val_f1: 0.6795 — val_precision: 0.6800 — val_recall: 0.6812\n",
            "898/898 [==============================] - 4s 4ms/sample - loss: 0.1894 - acc: 0.9276\n",
            "Epoch 32/45\n",
            "896/898 [============================>.] - ETA: 0s - loss: 0.1696 - acc: 0.9342val_f1: 0.6279 — val_precision: 0.6398 — val_recall: 0.6296\n",
            "898/898 [==============================] - 4s 4ms/sample - loss: 0.1695 - acc: 0.9343\n",
            "Epoch 33/45\n",
            "896/898 [============================>.] - ETA: 0s - loss: 0.1370 - acc: 0.9498val_f1: 0.6282 — val_precision: 0.6459 — val_recall: 0.6397\n",
            "898/898 [==============================] - 4s 4ms/sample - loss: 0.1368 - acc: 0.9499\n",
            "Epoch 34/45\n",
            "896/898 [============================>.] - ETA: 0s - loss: 0.1532 - acc: 0.9353val_f1: 0.4644 — val_precision: 0.6563 — val_recall: 0.5616\n",
            "898/898 [==============================] - 4s 4ms/sample - loss: 0.1534 - acc: 0.9354\n",
            "Epoch 35/45\n",
            "896/898 [============================>.] - ETA: 0s - loss: 0.1642 - acc: 0.9364val_f1: 0.5739 — val_precision: 0.6034 — val_recall: 0.5934\n",
            "898/898 [==============================] - 4s 4ms/sample - loss: 0.1638 - acc: 0.9365\n",
            "Epoch 36/45\n",
            "896/898 [============================>.] - ETA: 0s - loss: 0.1046 - acc: 0.9621val_f1: 0.6194 — val_precision: 0.6200 — val_recall: 0.6208\n",
            "898/898 [==============================] - 4s 4ms/sample - loss: 0.1044 - acc: 0.9621\n",
            "Epoch 37/45\n",
            "896/898 [============================>.] - ETA: 0s - loss: 0.0676 - acc: 0.9799val_f1: 0.5453 — val_precision: 0.5530 — val_recall: 0.5491\n",
            "898/898 [==============================] - 4s 4ms/sample - loss: 0.0678 - acc: 0.9800\n",
            "Epoch 38/45\n",
            "896/898 [============================>.] - ETA: 0s - loss: 0.0845 - acc: 0.9688val_f1: 0.6282 — val_precision: 0.6281 — val_recall: 0.6284\n",
            "898/898 [==============================] - 4s 4ms/sample - loss: 0.0843 - acc: 0.9688\n",
            "Epoch 39/45\n",
            "896/898 [============================>.] - ETA: 0s - loss: 0.0603 - acc: 0.9844val_f1: 0.6291 — val_precision: 0.6418 — val_recall: 0.6381\n",
            "898/898 [==============================] - 4s 4ms/sample - loss: 0.0601 - acc: 0.9844\n",
            "Epoch 40/45\n",
            "896/898 [============================>.] - ETA: 0s - loss: 0.0377 - acc: 0.9877val_f1: 0.6042 — val_precision: 0.6194 — val_recall: 0.6079\n",
            "898/898 [==============================] - 4s 4ms/sample - loss: 0.0376 - acc: 0.9878\n",
            "Epoch 41/45\n",
            "896/898 [============================>.] - ETA: 0s - loss: 0.0465 - acc: 0.9844val_f1: 0.5830 — val_precision: 0.5856 — val_recall: 0.5833\n",
            "898/898 [==============================] - 4s 4ms/sample - loss: 0.0464 - acc: 0.9844\n",
            "Epoch 42/45\n",
            "896/898 [============================>.] - ETA: 0s - loss: 0.0980 - acc: 0.9688val_f1: 0.6328 — val_precision: 0.6375 — val_recall: 0.6329\n",
            "898/898 [==============================] - 4s 4ms/sample - loss: 0.0978 - acc: 0.9688\n",
            "Epoch 43/45\n",
            "896/898 [============================>.] - ETA: 0s - loss: 0.0447 - acc: 0.9900val_f1: 0.5974 — val_precision: 0.5974 — val_recall: 0.5974\n",
            "898/898 [==============================] - 4s 4ms/sample - loss: 0.0446 - acc: 0.9900\n",
            "Epoch 44/45\n",
            "896/898 [============================>.] - ETA: 0s - loss: 0.0350 - acc: 0.9900val_f1: 0.6399 — val_precision: 0.6469 — val_recall: 0.6457\n",
            "898/898 [==============================] - 4s 4ms/sample - loss: 0.0350 - acc: 0.9900\n",
            "Epoch 45/45\n",
            "896/898 [============================>.] - ETA: 0s - loss: 0.0921 - acc: 0.9676val_f1: 0.5994 — val_precision: 0.6092 — val_recall: 0.6071\n",
            "898/898 [==============================] - 4s 4ms/sample - loss: 0.0922 - acc: 0.9677\n"
          ],
          "name": "stdout"
        }
      ]
    },
    {
      "cell_type": "code",
      "metadata": {
        "id": "9itcLVdDzXba",
        "colab_type": "code",
        "outputId": "d17ba8a6-d6e0-4c79-f5aa-d88f6ee5842b",
        "colab": {
          "base_uri": "https://localhost:8080/",
          "height": 34
        }
      },
      "source": [
        "model_path = os.path.join(save_dir, model_name)\n",
        "model.save(model_path)\n",
        "print('Saved trained model at %s ' % model_path)\n",
        "\n"
      ],
      "execution_count": 84,
      "outputs": [
        {
          "output_type": "stream",
          "text": [
            "Saved trained model at /content/models/keras_cnn_model.h5 \n"
          ],
          "name": "stdout"
        }
      ]
    },
    {
      "cell_type": "code",
      "metadata": {
        "id": "JIdUvaLGzeDs",
        "colab_type": "code",
        "outputId": "a9ec5ea3-8bc3-415b-a2f0-28775e91d0f8",
        "colab": {
          "base_uri": "https://localhost:8080/",
          "height": 286
        }
      },
      "source": [
        "history_df = pd.DataFrame(hist.history)\n",
        "history_df['val_f1'] = f1_metrics.val_f1s\n",
        "history_df['val_precision'] = f1_metrics.val_precisions\n",
        "history_df['val_recall'] = f1_metrics.val_recalls\n",
        "\n",
        "\n",
        "history_df[['val_f1', 'val_precision', 'val_recall']].plot()\n",
        "\n"
      ],
      "execution_count": 85,
      "outputs": [
        {
          "output_type": "execute_result",
          "data": {
            "text/plain": [
              "<matplotlib.axes._subplots.AxesSubplot at 0x7fe3773a1da0>"
            ]
          },
          "metadata": {
            "tags": []
          },
          "execution_count": 85
        },
        {
          "output_type": "display_data",
          "data": {
            "image/png": "[encoded data removed]",
            "text/plain": [
              "<Figure size 432x288 with 1 Axes>"
            ]
          },
          "metadata": {
            "tags": []
          }
        }
      ]
    },
    {
      "cell_type": "code",
      "metadata": {
        "id": "wiBKjwJJLeJ0",
        "colab_type": "code",
        "colab": {}
      },
      "source": [
        "import tarfile\n",
        "\n",
        "def make_tarfile(output_filename, source_dir):\n",
        "    with tarfile.open(output_filename, \"w:gz\") as tar:\n",
        "        tar.add(source_dir, arcname=os.path.basename(source_dir))\n",
        "make_tarfile('model.tar.gz', model_path)"
      ],
      "execution_count": 0,
      "outputs": []
    }
  ]
}